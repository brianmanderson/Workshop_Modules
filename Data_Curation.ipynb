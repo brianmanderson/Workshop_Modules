{
 "cells": [
  {
   "cell_type": "markdown",
   "metadata": {},
   "source": [
    "# Data curation"
   ]
  },
  {
   "cell_type": "markdown",
   "metadata": {},
   "source": [
    "### Import some necessary functions"
   ]
  },
  {
   "cell_type": "code",
   "execution_count": 1,
   "metadata": {},
   "outputs": [],
   "source": [
    "import os, pydicom, sys\n",
    "sys.path.append('..')\n",
    "import numpy as np\n",
    "import SimpleITK as sitk\n",
    "from Distribute_Patients import Separate_files\n",
    "from Dicom_RT_and_Images_to_Mask.Image_Array_And_Mask_From_Dicom_RT import Dicom_to_Imagestack\n",
    "from Plot_ScrollBar_Images import plot_Image_Scroll_Bar_Image\n",
    "from Make_Single_Images.Make_Single_Images_Class import run_main"
   ]
  },
  {
   "cell_type": "markdown",
   "metadata": {},
   "source": [
    "## Finding the Data"
   ]
  },
  {
   "cell_type": "markdown",
   "metadata": {},
   "source": [
    "### Find where we put our data"
   ]
  },
  {
   "cell_type": "code",
   "execution_count": 2,
   "metadata": {},
   "outputs": [
    {
     "name": "stdout",
     "output_type": "stream",
     "text": [
      "We have 20 patients!\n"
     ]
    }
   ],
   "source": [
    "data_path = os.path.join('..','Data','Whole_Patients')\n",
    "print('We have ' + str(len(os.listdir(data_path))) + ' patients!')"
   ]
  },
  {
   "cell_type": "markdown",
   "metadata": {},
   "source": [
    "## Ensuring contour fidelity..."
   ]
  },
  {
   "cell_type": "markdown",
   "metadata": {},
   "source": [
    "### Note that we've set 'get_images_mask' to False, this means we won't be getting any of the image data, just looking at the dicom RT files"
   ]
  },
  {
   "cell_type": "code",
   "execution_count": 3,
   "metadata": {
    "scrolled": true
   },
   "outputs": [],
   "source": [
    "Dicom_Reader = Dicom_to_Imagestack(get_images_mask=False)"
   ]
  },
  {
   "cell_type": "code",
   "execution_count": 4,
   "metadata": {},
   "outputs": [],
   "source": [
    "Dicom_Reader.down_folder(data_path)"
   ]
  },
  {
   "cell_type": "markdown",
   "metadata": {},
   "source": [
    "### What ROI names do we have?\n",
    "\n",
    "#### This will tell us all the unique roi names, hence all_rois"
   ]
  },
  {
   "cell_type": "code",
   "execution_count": 5,
   "metadata": {
    "scrolled": false
   },
   "outputs": [
    {
     "name": "stdout",
     "output_type": "stream",
     "text": [
      "Liver\n",
      "bma_liver\n",
      "best_liver\n",
      "tried_liver\n",
      "Liver_BMA_Program_4\n"
     ]
    }
   ],
   "source": [
    "for roi in Dicom_Reader.all_rois:\n",
    "    print(roi)"
   ]
  },
  {
   "cell_type": "markdown",
   "metadata": {},
   "source": [
    "## Make contour associations"
   ]
  },
  {
   "cell_type": "markdown",
   "metadata": {},
   "source": [
    "#### We have quite a few contour names here.. now, we can either change the ROI names in the RT files, or make an associations file\n",
    "\n",
    "#### The associations file associates a contour name with another one {'Current contour':'Desired name'}"
   ]
  },
  {
   "cell_type": "code",
   "execution_count": 6,
   "metadata": {},
   "outputs": [],
   "source": [
    "associations = {'Liver_BMA_Program_4':'Liver',\n",
    "                'bma_liver':'Liver',\n",
    "                'best_liver':'Liver',\n",
    "                'tried_liver':'Liver'}"
   ]
  },
  {
   "cell_type": "markdown",
   "metadata": {},
   "source": [
    "### Tell the Dicom_Reader that we want to set the associations, get the images and mask for contour 'Liver'"
   ]
  },
  {
   "cell_type": "code",
   "execution_count": 18,
   "metadata": {},
   "outputs": [],
   "source": [
    "Dicom_Reader.set_associations(associations)\n",
    "Dicom_Reader.set_get_images_and_mask(True)\n",
    "Dicom_Reader.set_contour_names(['liver'])"
   ]
  },
  {
   "cell_type": "markdown",
   "metadata": {},
   "source": [
    "### Re-write RTs\n",
    "#### This is commented out, because if I run it, then the example above won't show any different contour names"
   ]
  },
  {
   "cell_type": "code",
   "execution_count": 19,
   "metadata": {},
   "outputs": [],
   "source": [
    "# Dicom_Reader.associations = associations\n",
    "# for RT in Dicom_Reader.all_RTs:\n",
    "#     Dicom_Reader.rewrite_RT(RT)"
   ]
  },
  {
   "cell_type": "markdown",
   "metadata": {},
   "source": [
    "## Pulling images and mask"
   ]
  },
  {
   "cell_type": "markdown",
   "metadata": {},
   "source": [
    "### We'll first do this with one patient"
   ]
  },
  {
   "cell_type": "code",
   "execution_count": 20,
   "metadata": {},
   "outputs": [
    {
     "name": "stdout",
     "output_type": "stream",
     "text": [
      "Done!\n"
     ]
    }
   ],
   "source": [
    "patient_data_path = os.path.join(data_path,'ABD_LYMPH_036')\n",
    "Dicom_Reader.Make_Contour_From_directory(patient_data_path)\n",
    "print('Done!')"
   ]
  },
  {
   "cell_type": "markdown",
   "metadata": {},
   "source": [
    "## View images"
   ]
  },
  {
   "cell_type": "code",
   "execution_count": 21,
   "metadata": {},
   "outputs": [],
   "source": [
    "%matplotlib inline"
   ]
  },
  {
   "cell_type": "markdown",
   "metadata": {},
   "source": [
    "### The images and mask are saved within the Dicom_Reader class, so we just have to load them"
   ]
  },
  {
   "cell_type": "code",
   "execution_count": 22,
   "metadata": {},
   "outputs": [],
   "source": [
    "Images = Dicom_Reader.ArrayDicom\n",
    "mask = Dicom_Reader.mask # This is the mask"
   ]
  },
  {
   "cell_type": "markdown",
   "metadata": {},
   "source": [
    "#### Threshold"
   ]
  },
  {
   "cell_type": "code",
   "execution_count": 12,
   "metadata": {},
   "outputs": [],
   "source": [
    "Images[Images<-200] = -200\n",
    "Images[Images>200] = 200"
   ]
  },
  {
   "cell_type": "code",
   "execution_count": 16,
   "metadata": {
    "scrolled": false
   },
   "outputs": [
    {
     "data": {
      "application/vnd.jupyter.widget-view+json": {
       "model_id": "055f8b9cfb3a429c878b7c18377e8f78",
       "version_major": 2,
       "version_minor": 0
      },
      "text/plain": [
       "interactive(children=(IntSlider(value=0, description='Z', max=160), Text(value='2D', description='view'), Outp…"
      ]
     },
     "metadata": {},
     "output_type": "display_data"
    }
   ],
   "source": [
    "plot_Image_Scroll_Bar_Image(Images)"
   ]
  },
  {
   "cell_type": "code",
   "execution_count": 14,
   "metadata": {},
   "outputs": [],
   "source": [
    "Images[mask==1] += 300"
   ]
  },
  {
   "cell_type": "markdown",
   "metadata": {},
   "source": [
    "## Recap\n",
    "\n",
    "### Checking ROI contour names and making associations\n",
    "\n",
    "### Loading in image and mask from desired contour name\n",
    "\n",
    "### Viewing images and mask"
   ]
  },
  {
   "cell_type": "markdown",
   "metadata": {},
   "source": [
    "## Separate into Train/Test/Validation\n",
    "\n",
    "### This is also important, but I would recommend using the 'Parallel' approach available in https://github.com/brianmanderson/Dicom_Data_to_Numpy_Arrays\n",
    "### For ease, this has already been done for you"
   ]
  },
  {
   "cell_type": "code",
   "execution_count": 28,
   "metadata": {},
   "outputs": [],
   "source": [
    "def write_data(data_path, out_path, Dicom_Reader,desc = 'TCIA_Liver_Patients'):\n",
    "    if not os.path.exists(out_path):\n",
    "        os.makedirs(out_path)\n",
    "    print(out_path)\n",
    "    Dicom_Reader.set_description(desc)\n",
    "    iteration = 0\n",
    "    for patient in os.listdir(data_path):\n",
    "        print(patient)\n",
    "        patient_data_path = os.path.join(data_path,patient)\n",
    "        out_file = os.path.join(patient_data_path, desc + '_Iteration_' + str(iteration) + '.txt')\n",
    "        if not os.path.exists(out_file):\n",
    "            Dicom_Reader.Make_Contour_From_directory(patient_data_path)\n",
    "            Dicom_Reader.set_iteration(iteration)\n",
    "            Dicom_Reader.write_images_annotations(out_path)\n",
    "        iteration += 1\n",
    "    return None"
   ]
  },
  {
   "cell_type": "code",
   "execution_count": 29,
   "metadata": {
    "scrolled": false
   },
   "outputs": [
    {
     "name": "stdout",
     "output_type": "stream",
     "text": [
      "..\\..\\Data\\Niftii_Arrays\n",
      "ABD_LYMPH_007\n",
      "ABD_LYMPH_016\n",
      "ABD_LYMPH_019\n",
      "ABD_LYMPH_028\n",
      "ABD_LYMPH_033\n",
      "ABD_LYMPH_036\n",
      "ABD_LYMPH_069\n",
      "MED_LYMPH_002\n",
      "MED_LYMPH_017\n",
      "MED_LYMPH_024\n",
      "MED_LYMPH_029\n",
      "MED_LYMPH_030\n",
      "MED_LYMPH_044\n",
      "MED_LYMPH_055\n",
      "MED_LYMPH_063\n",
      "MED_LYMPH_064\n",
      "MED_LYMPH_067\n",
      "MED_LYMPH_069\n",
      "MED_LYMPH_073\n",
      "MED_LYMPH_075\n",
      "This is running on 17 threads\n",
      "Overall_mask_TCIA_Liver_Patients_y0.nii.gz\n",
      "7.142857142857142\n",
      "Overall_mask_TCIA_Liver_Patients_y1.nii.gz\n",
      "14.285714285714285\n",
      "Overall_mask_TCIA_Liver_Patients_y10.nii.gz\n",
      "21.428571428571427\n",
      "Overall_mask_TCIA_Liver_Patients_y11.nii.gz\n",
      "28.57142857142857\n",
      "Overall_mask_TCIA_Liver_Patients_y12.nii.gz\n",
      "35.714285714285715\n",
      "Overall_mask_TCIA_Liver_Patients_y13.nii.gz\n",
      "42.857142857142854\n",
      "Overall_mask_TCIA_Liver_Patients_y14.nii.gz\n",
      "50.0\n",
      "Overall_mask_TCIA_Liver_Patients_y15.nii.gz\n",
      "57.14285714285714\n",
      "Overall_mask_TCIA_Liver_Patients_y16.nii.gz\n",
      "64.28571428571429\n",
      "Overall_mask_TCIA_Liver_Patients_y17.nii.gz\n",
      "71.42857142857143\n",
      "Overall_mask_TCIA_Liver_Patients_y18.nii.gz\n",
      "78.57142857142857\n",
      "Overall_mask_TCIA_Liver_Patients_y19.nii.gz\n",
      "85.71428571428571\n",
      "Overall_mask_TCIA_Liver_Patients_y2.nii.gz\n",
      "92.85714285714286\n",
      "Overall_mask_TCIA_Liver_Patients_y4.nii.gz\n",
      "100.0\n",
      "Overall_mask_TCIA_Liver_Patients_y3.nii.gz\n",
      "33.33333333333333\n",
      "Overall_mask_TCIA_Liver_Patients_y5.nii.gz\n",
      "66.66666666666666\n",
      "Overall_mask_TCIA_Liver_Patients_y9.nii.gz\n",
      "100.0\n",
      "Overall_mask_TCIA_Liver_Patients_y6.nii.gz\n",
      "33.33333333333333\n",
      "Overall_mask_TCIA_Liver_Patients_y7.nii.gz\n",
      "66.66666666666666\n",
      "Overall_mask_TCIA_Liver_Patients_y8.nii.gz\n",
      "100.0\n"
     ]
    }
   ],
   "source": [
    "output_path = data_path.replace('Whole_Patients','Niftii_Arrays')\n",
    "#write_data(data_path,output_path, Dicom_Reader)\n",
    "#Separate_files(output_path) # Separate into a Training/Validation/Test set\n",
    "#run_main(output_path,extension=5)"
   ]
  }
 ],
 "metadata": {
  "kernelspec": {
   "display_name": "Python 3",
   "language": "python",
   "name": "python3"
  },
  "language_info": {
   "codemirror_mode": {
    "name": "ipython",
    "version": 3
   },
   "file_extension": ".py",
   "mimetype": "text/x-python",
   "name": "python",
   "nbconvert_exporter": "python",
   "pygments_lexer": "ipython3",
   "version": "3.6.8"
  }
 },
 "nbformat": 4,
 "nbformat_minor": 2
}
