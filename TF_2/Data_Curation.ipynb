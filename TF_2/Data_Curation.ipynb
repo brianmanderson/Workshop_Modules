{
 "cells": [
  {
   "cell_type": "markdown",
   "metadata": {},
   "source": [
    "# Data curation"
   ]
  },
  {
   "cell_type": "markdown",
   "metadata": {},
   "source": [
    "### Import some necessary functions"
   ]
  },
  {
   "cell_type": "code",
   "execution_count": 1,
   "metadata": {
    "pycharm": {
     "is_executing": false
    }
   },
   "outputs": [],
   "source": [
    "import os\n",
    "def return_sys_path():\n",
    "    path = '.'\n",
    "    for _ in range(5):\n",
    "        if 'Pre_Processing' in os.listdir(path):\n",
    "            break\n",
    "        else:\n",
    "            path = os.path.join(path,'..')\n",
    "    return path\n",
    "def return_data_path():\n",
    "    path = '.'\n",
    "    for _ in range(5):\n",
    "        if 'Data' in os.listdir(path):\n",
    "            break\n",
    "        else:\n",
    "            path = os.path.join(path,'..')\n",
    "    return path"
   ]
  },
  {
   "cell_type": "code",
   "execution_count": 2,
   "metadata": {
    "scrolled": true,
    "pycharm": {
     "is_executing": false
    }
   },
   "outputs": [],
   "source": [
    "import sys\n",
    "sys.path.append(return_sys_path())\n",
    "from Pre_Processing.Distribute_Patients import Separate_files\n",
    "from Pre_Processing.Dicom_RT_and_Images_to_Mask.Image_Array_And_Mask_From_Dicom_RT import Dicom_to_Imagestack\n",
    "from Pre_Processing.Dicom_RT_and_Images_to_Mask.Plot_And_Scroll_Images.Plot_Scroll_Images import plot_Image_Scroll_Bar_Image"
   ]
  },
  {
   "cell_type": "markdown",
   "metadata": {},
   "source": [
    "## Finding the Data"
   ]
  },
  {
   "cell_type": "markdown",
   "metadata": {},
   "source": [
    "### Find where we put our data"
   ]
  },
  {
   "cell_type": "code",
   "execution_count": 4,
   "metadata": {
    "pycharm": {
     "is_executing": false
    }
   },
   "outputs": [
    {
     "name": "stdout",
     "text": [
      "We have 20 patients!\n"
     ],
     "output_type": "stream"
    }
   ],
   "source": [
    "data_path = os.path.join(return_data_path(),'Data','Whole_Patients')\n",
    "print('We have ' + str(len(os.listdir(data_path))) + ' patients!')"
   ]
  },
  {
   "cell_type": "markdown",
   "metadata": {},
   "source": [
    "## Ensuring contour fidelity..."
   ]
  },
  {
   "cell_type": "markdown",
   "metadata": {},
   "source": [
    "### Note that we've set 'get_images_mask' to False, this means we won't be getting any of the image data, just looking at the dicom RT files"
   ]
  },
  {
   "cell_type": "code",
   "execution_count": 5,
   "metadata": {
    "scrolled": true,
    "pycharm": {
     "is_executing": false
    }
   },
   "outputs": [],
   "source": [
    "Dicom_Reader = Dicom_to_Imagestack(get_images_mask=False)"
   ]
  },
  {
   "cell_type": "code",
   "execution_count": 6,
   "metadata": {
    "pycharm": {
     "is_executing": false
    }
   },
   "outputs": [],
   "source": [
    "Dicom_Reader.down_folder(data_path)"
   ]
  },
  {
   "cell_type": "markdown",
   "metadata": {},
   "source": [
    "### What ROI names do we have?\n",
    "\n",
    "#### This will tell us all the unique roi names, hence all_rois"
   ]
  },
  {
   "cell_type": "code",
   "execution_count": 6,
   "metadata": {
    "scrolled": false,
    "pycharm": {
     "is_executing": false
    }
   },
   "outputs": [
    {
     "name": "stdout",
     "text": [
      "bma_liver\n",
      "Liver_BMA_Program_4\n",
      "tried_liver\n",
      "best_liver\n",
      "Liver\n"
     ],
     "output_type": "stream"
    }
   ],
   "source": [
    "for roi in Dicom_Reader.all_rois:\n",
    "    print(roi)"
   ]
  },
  {
   "cell_type": "markdown",
   "metadata": {},
   "source": [
    "## Make contour associations"
   ]
  },
  {
   "cell_type": "markdown",
   "metadata": {},
   "source": [
    "#### We have quite a few contour names here.. now, we can either change the ROI names in the RT files, or make an associations file\n",
    "\n",
    "#### The associations file associates a contour name with another one {'Current contour':'Desired name'}"
   ]
  },
  {
   "cell_type": "code",
   "execution_count": 7,
   "metadata": {
    "pycharm": {
     "is_executing": false
    }
   },
   "outputs": [],
   "source": [
    "associations = {'Liver_BMA_Program_4':'Liver',\n",
    "                'bma_liver':'Liver',\n",
    "                'best_liver':'Liver',\n",
    "                'tried_liver':'Liver'}"
   ]
  },
  {
   "cell_type": "markdown",
   "metadata": {},
   "source": [
    "### Tell the Dicom_Reader that we want to set the associations, get the images and mask for contour 'Liver'"
   ]
  },
  {
   "cell_type": "code",
   "execution_count": 8,
   "metadata": {
    "pycharm": {
     "is_executing": false
    }
   },
   "outputs": [],
   "source": [
    "Dicom_Reader.set_associations(associations)\n",
    "Dicom_Reader.set_get_images_and_mask(True)\n",
    "Dicom_Reader.set_contour_names(['liver'])"
   ]
  },
  {
   "cell_type": "markdown",
   "metadata": {},
   "source": [
    "### Re-write RTs\n",
    "#### This is commented out, because if I run it, then the example above won't show any different contour names"
   ]
  },
  {
   "cell_type": "code",
   "execution_count": null,
   "metadata": {},
   "outputs": [],
   "source": [
    "# Dicom_Reader.associations = associations\n",
    "# for RT in Dicom_Reader.all_RTs:\n",
    "#     Dicom_Reader.rewrite_RT(RT)"
   ]
  },
  {
   "cell_type": "markdown",
   "metadata": {},
   "source": [
    "## Pulling images and mask"
   ]
  },
  {
   "cell_type": "markdown",
   "metadata": {},
   "source": [
    "### We'll first do this with one patient"
   ]
  },
  {
   "cell_type": "code",
   "execution_count": 9,
   "metadata": {
    "pycharm": {
     "is_executing": false
    }
   },
   "outputs": [
    {
     "name": "stdout",
     "text": [
      "Done!\n"
     ],
     "output_type": "stream"
    }
   ],
   "source": [
    "patient_data_path = os.path.join(data_path,'ABD_LYMPH_036')\n",
    "Dicom_Reader.Make_Contour_From_directory(patient_data_path)\n",
    "print('Done!')"
   ]
  },
  {
   "cell_type": "markdown",
   "metadata": {},
   "source": [
    "## View images"
   ]
  },
  {
   "cell_type": "code",
   "execution_count": null,
   "metadata": {
    "pycharm": {
     "is_executing": false
    }
   },
   "outputs": [],
   "source": [
    "%matplotlib inline"
   ]
  },
  {
   "cell_type": "markdown",
   "metadata": {},
   "source": [
    "### The images and mask are saved within the Dicom_Reader class, so we just have to load them"
   ]
  },
  {
   "cell_type": "code",
   "execution_count": null,
   "metadata": {
    "pycharm": {
     "is_executing": false
    }
   },
   "outputs": [],
   "source": [
    "Images = Dicom_Reader.ArrayDicom\n",
    "mask = Dicom_Reader.mask # This is the mask"
   ]
  },
  {
   "cell_type": "markdown",
   "metadata": {},
   "source": [
    "#### Threshold"
   ]
  },
  {
   "cell_type": "code",
   "execution_count": null,
   "metadata": {
    "pycharm": {
     "is_executing": false
    }
   },
   "outputs": [],
   "source": [
    "Images[Images<-200] = -200\n",
    "Images[Images>200] = 200"
   ]
  },
  {
   "cell_type": "code",
   "execution_count": null,
   "metadata": {
    "scrolled": false,
    "pycharm": {
     "is_executing": false
    }
   },
   "outputs": [],
   "source": [
    "plot_Image_Scroll_Bar_Image(Images)"
   ]
  },
  {
   "cell_type": "code",
   "execution_count": null,
   "metadata": {
    "pycharm": {
     "is_executing": false
    }
   },
   "outputs": [],
   "source": [
    "Images[mask==1] += 300"
   ]
  },
  {
   "cell_type": "markdown",
   "metadata": {},
   "source": [
    "## Recap\n",
    "\n",
    "### Checking ROI contour names and making associations\n",
    "\n",
    "### Loading in image and mask from desired contour name\n",
    "\n",
    "### Viewing images and mask"
   ]
  },
  {
   "cell_type": "markdown",
   "metadata": {},
   "source": [
    "## Separate into Train/Test/Validation\n",
    "\n",
    "### This is also important, but I would recommend using the .write_parallel function\n",
    "### This will create the niftii files and randomly separate them into Train/Validation/Test folders"
   ]
  },
  {
   "cell_type": "code",
   "execution_count": 9,
   "metadata": {
    "pycharm": {
     "is_executing": false
    }
   },
   "outputs": [
    {
     "name": "stdout",
     "text": [
      ".\\..\\..\\Data\\Whole_Patients\\ABD_LYMPH_007.\\..\\..\\Data\\Whole_Patients\\ABD_LYMPH_016\n",
      ".\\..\\..\\Data\\Whole_Patients\\ABD_LYMPH_019\n",
      ".\\..\\..\\Data\\Whole_Patients\\ABD_LYMPH_028\n",
      "\n",
      ".\\..\\..\\Data\\Whole_Patients\\ABD_LYMPH_033.\\..\\..\\Data\\Whole_Patients\\ABD_LYMPH_036\n",
      "\n",
      ".\\..\\..\\Data\\Whole_Patients\\ABD_LYMPH_069.\\..\\..\\Data\\Whole_Patients\\MED_LYMPH_002\n",
      "\n",
      ".\\..\\..\\Data\\Whole_Patients\\MED_LYMPH_017.\\..\\..\\Data\\Whole_Patients\\MED_LYMPH_024\n",
      "\n",
      ".\\..\\..\\Data\\Whole_Patients\\MED_LYMPH_029\n",
      ".\\..\\..\\Data\\Whole_Patients\\MED_LYMPH_030\n",
      ".\\..\\..\\Data\\Whole_Patients\\MED_LYMPH_044\n",
      ".\\..\\..\\Data\\Whole_Patients\\MED_LYMPH_055\n",
      ".\\..\\..\\Data\\Whole_Patients\\MED_LYMPH_063\n",
      ".\\..\\..\\Data\\Whole_Patients\\MED_LYMPH_064\n",
      ".\\..\\..\\Data\\Whole_Patients\\MED_LYMPH_067\n",
      ".\\..\\..\\Data\\Whole_Patients\\MED_LYMPH_069\n",
      ".\\..\\..\\Data\\Whole_Patients\\MED_LYMPH_073.\\..\\..\\Data\\Whole_Patients\\MED_LYMPH_075\n",
      "\n"
     ],
     "output_type": "stream"
    },
    {
     "data": {
      "text/plain": "<Pre_Processing.Distribute_Patients.Separate_files at 0x2385d1907b8>"
     },
     "metadata": {},
     "output_type": "execute_result",
     "execution_count": 9
    }
   ],
   "source": [
    "desc = 'TCIA_Liver_Patients'\n",
    "output_path = data_path.replace('Whole_Patients','Niftii_Arrays')\n",
    "Dicom_Reader.set_get_images_and_mask(False)\n",
    "Dicom_Reader.set_description(desc)\n",
    "Dicom_Reader.down_folder(data_path,reset=True)\n",
    "# Dicom_Reader.write_parallel(output_path,excel_file=os.path.join('.','patient_dist.xlsx'), thread_count=10)\n",
    "# Separate_files(input_path=os.path.join(output_path,desc), out_path=output_path)"
   ]
  },
  {
   "cell_type": "markdown",
   "source": [
    "## Turn into TFRecords"
   ],
   "metadata": {
    "collapsed": false
   }
  },
  {
   "cell_type": "code",
   "execution_count": 10,
   "outputs": [
    {
     "name": "stdout",
     "text": [
      ".\\..\\..\\Data\\Niftii_Arrays\\Train\\Overall_Data_TCIA_Liver_Patients_0.nii.gz\n",
      ".\\..\\..\\Data\\Niftii_Arrays\\Train\\Overall_Data_TCIA_Liver_Patients_1.nii.gz\n",
      ".\\..\\..\\Data\\Niftii_Arrays\\Train\\Overall_Data_TCIA_Liver_Patients_10.nii.gz\n",
      ".\\..\\..\\Data\\Niftii_Arrays\\Train\\Overall_Data_TCIA_Liver_Patients_11.nii.gz\n",
      ".\\..\\..\\Data\\Niftii_Arrays\\Train\\Overall_Data_TCIA_Liver_Patients_12.nii.gz\n",
      ".\\..\\..\\Data\\Niftii_Arrays\\Train\\Overall_Data_TCIA_Liver_Patients_14.nii.gz\n",
      ".\\..\\..\\Data\\Niftii_Arrays\\Train\\Overall_Data_TCIA_Liver_Patients_15.nii.gz\n",
      ".\\..\\..\\Data\\Niftii_Arrays\\Train\\Overall_Data_TCIA_Liver_Patients_18.nii.gz\n",
      ".\\..\\..\\Data\\Niftii_Arrays\\Train\\Overall_Data_TCIA_Liver_Patients_19.nii.gz\n",
      ".\\..\\..\\Data\\Niftii_Arrays\\Train\\Overall_Data_TCIA_Liver_Patients_2.nii.gz\n",
      ".\\..\\..\\Data\\Niftii_Arrays\\Train\\Overall_Data_TCIA_Liver_Patients_3.nii.gz\n",
      ".\\..\\..\\Data\\Niftii_Arrays\\Train\\Overall_Data_TCIA_Liver_Patients_4.nii.gz\n",
      ".\\..\\..\\Data\\Niftii_Arrays\\Train\\Overall_Data_TCIA_Liver_Patients_6.nii.gz\n",
      ".\\..\\..\\Data\\Niftii_Arrays\\Train\\Overall_Data_TCIA_Liver_Patients_7.nii.gz\n",
      ".\\..\\..\\Data\\Niftii_Arrays\\Validation\\Overall_Data_TCIA_Liver_Patients_16.nii.gz\n",
      ".\\..\\..\\Data\\Niftii_Arrays\\Validation\\Overall_Data_TCIA_Liver_Patients_5.nii.gz\n",
      ".\\..\\..\\Data\\Niftii_Arrays\\Validation\\Overall_Data_TCIA_Liver_Patients_9.nii.gz\n",
      ".\\..\\..\\Data\\Niftii_Arrays\\Test\\Overall_Data_TCIA_Liver_Patients_13.nii.gz\n",
      ".\\..\\..\\Data\\Niftii_Arrays\\Test\\Overall_Data_TCIA_Liver_Patients_17.nii.gz\n",
      ".\\..\\..\\Data\\Niftii_Arrays\\Test\\Overall_Data_TCIA_Liver_Patients_8.nii.gz\n"
     ],
     "output_type": "stream"
    }
   ],
   "source": [
    "from Pre_Processing.Make_Single_Images.Make_TFRecord_Class import write_tf_record\n",
    "from Pre_Processing.Make_Single_Images.Image_Processors_Module.Image_Processors_TFRecord import *\n",
    "image_processors = [To_Categorical(),\n",
    "                    Cast_Data({\"image\":\"float16\",'annotation':'int8'}),\n",
    "                    Distribute_into_2D()]\n",
    "path = data_path.replace('Whole_Patients','Niftii_Arrays')\n",
    "# write_tf_record(os.path.join(path, 'Train'), out_path=os.path.join(path,'Records','Train'), image_processors=image_processors,\n",
    "#                 is_3D=False, verbose=False, thread_count=14)\n",
    "image_processors = [To_Categorical(),\n",
    "                    Cast_Data({\"image\":\"float16\",'annotation':'int8'}),\n",
    "                    Distribute_into_3D()]\n",
    "# write_tf_record(os.path.join(path, 'Validation'), out_path=os.path.join(path,'Records','Validation'), image_processors=image_processors,\n",
    "#                 is_3D=True, thread_count=3)\n",
    "image_processors = [To_Categorical(),\n",
    "                    Cast_Data({\"image\":\"float16\",'annotation':'int8'}),\n",
    "                    Distribute_into_3D()]\n",
    "# write_tf_record(os.path.join(path, 'Test'), out_path=os.path.join(path,'Records','Test'), image_processors=image_processors,\n",
    "#                 is_3D=True, thread_count=3)"
   ],
   "metadata": {
    "collapsed": false,
    "pycharm": {
     "name": "#%%\n",
     "is_executing": false
    }
   }
  }
 ],
 "metadata": {
  "kernelspec": {
   "display_name": "Python 3",
   "language": "python",
   "name": "python3"
  },
  "language_info": {
   "codemirror_mode": {
    "name": "ipython",
    "version": 3
   },
   "file_extension": ".py",
   "mimetype": "text/x-python",
   "name": "python",
   "nbconvert_exporter": "python",
   "pygments_lexer": "ipython3",
   "version": "3.6.8"
  },
  "pycharm": {
   "stem_cell": {
    "cell_type": "raw",
    "source": [],
    "metadata": {
     "collapsed": false
    }
   }
  }
 },
 "nbformat": 4,
 "nbformat_minor": 2
}